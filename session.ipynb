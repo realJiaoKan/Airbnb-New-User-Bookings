{
 "cells": [
  {
   "cell_type": "code",
   "execution_count": 1,
   "metadata": {},
   "outputs": [],
   "source": [
    "import pandas as pd\n",
    "\n",
    "from tqdm.notebook import tqdm"
   ]
  },
  {
   "cell_type": "code",
   "execution_count": 2,
   "metadata": {},
   "outputs": [],
   "source": [
    "sessions = pd.read_csv(\"data/sessions.csv\")"
   ]
  },
  {
   "cell_type": "code",
   "execution_count": 3,
   "metadata": {},
   "outputs": [],
   "source": [
    "sessions[\"secs_elapsed\"] = sessions[\"secs_elapsed\"].fillna(0)\n",
    "sessions[\"action\"] = sessions[\"action\"].fillna(\"BLANK\").replace(\"\", \"BLANK\")\n",
    "sessions[\"action_type\"] = sessions[\"action_type\"].fillna(\"BLANK\").replace(\"\", \"BLANK\")\n",
    "sessions[\"action_detail\"] = (\n",
    "    sessions[\"action_detail\"].fillna(\"BLANK\").replace(\"\", \"BLANK\")\n",
    ")\n",
    "\n",
    "sessions = sessions.astype(\n",
    "    {\n",
    "        \"action\": \"category\",\n",
    "        \"action_type\": \"category\",\n",
    "        \"action_detail\": \"category\",\n",
    "        \"device_type\": \"category\",\n",
    "    }\n",
    ")\n",
    "\n",
    "sessions.drop(columns=[\"secs_elapsed\"], inplace=True)\n",
    "sessions[\"count\"] = 1"
   ]
  },
  {
   "cell_type": "code",
   "execution_count": 4,
   "metadata": {},
   "outputs": [
    {
     "data": {
      "application/vnd.jupyter.widget-view+json": {
       "model_id": "f6c37ee6fadc4f9a89f2fe368dea434c",
       "version_major": 2,
       "version_minor": 0
      },
      "text/plain": [
       "Processing batches:   0%|          | 0/212 [00:00<?, ?it/s]"
      ]
     },
     "metadata": {},
     "output_type": "display_data"
    }
   ],
   "source": [
    "batch_size = 50000\n",
    "imax = len(sessions)\n",
    "\n",
    "sessions_grouped = None\n",
    "\n",
    "for i1 in tqdm(range(0, imax, batch_size), desc=\"Processing batches\"):\n",
    "    i2 = min(i1 + batch_size, imax)\n",
    "\n",
    "    batch = sessions.iloc[i1:i2]\n",
    "    batch_dummies = pd.get_dummies(batch.drop(columns=[\"user_id\"]), drop_first=False)\n",
    "    batch_dummies = batch[[\"user_id\"]].join(batch_dummies.mul(batch[\"count\"], axis=0))\n",
    "\n",
    "    if sessions_grouped is None:\n",
    "        sessions_grouped = batch_dummies.groupby(\"user_id\").sum().reset_index()\n",
    "    else:\n",
    "        sessions_grouped = (\n",
    "            pd.concat([sessions_grouped, batch_dummies])\n",
    "            .groupby(\"user_id\")\n",
    "            .sum()\n",
    "            .reset_index()\n",
    "        )\n",
    "\n",
    "sessions_grouped.to_feather(\"data/preprocessed/sessions_grouped\")"
   ]
  }
 ],
 "metadata": {
  "kernelspec": {
   "display_name": ".venv",
   "language": "python",
   "name": "python3"
  },
  "language_info": {
   "codemirror_mode": {
    "name": "ipython",
    "version": 3
   },
   "file_extension": ".py",
   "mimetype": "text/x-python",
   "name": "python",
   "nbconvert_exporter": "python",
   "pygments_lexer": "ipython3",
   "version": "3.11.10"
  }
 },
 "nbformat": 4,
 "nbformat_minor": 2
}
