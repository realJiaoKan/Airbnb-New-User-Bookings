{
 "cells": [
  {
   "cell_type": "code",
   "execution_count": null,
   "metadata": {},
   "outputs": [],
   "source": [
    "import numpy as np\n",
    "import pandas as pd\n",
    "\n",
    "import xgboost as xgb\n",
    "from sklearn.model_selection import KFold"
   ]
  },
  {
   "cell_type": "code",
   "execution_count": null,
   "metadata": {},
   "outputs": [],
   "source": [
    "country_levels = [\n",
    "    \"NDF\",\n",
    "    \"US\",\n",
    "    \"other\",\n",
    "    \"FR\",\n",
    "    \"IT\",\n",
    "    \"GB\",\n",
    "    \"ES\",\n",
    "    \"CA\",\n",
    "    \"DE\",\n",
    "    \"NL\",\n",
    "    \"AU\",\n",
    "    \"PT\",\n",
    "]\n",
    "\n",
    "\n",
    "def split_vals(df: pd.DataFrame, n: int):\n",
    "    return df[:n].copy(), df[n:].copy()\n",
    "\n",
    "\n",
    "def ndcg(actual, predicted, k=5):\n",
    "    ndcg_scores = []\n",
    "\n",
    "    for i in range(len(actual)):\n",
    "        rel = [1 if p == actual[i] else 0 for p in predicted[i][:k]]\n",
    "        dcg = sum((2 ** rel[j] - 1) / np.log2(j + 2) for j in range(k))\n",
    "        ndcg = dcg\n",
    "        ndcg_scores.append(ndcg)\n",
    "\n",
    "    return np.mean(ndcg_scores)\n",
    "\n",
    "\n",
    "def get_rank(arr):\n",
    "    ranks = np.zeros_like(arr)\n",
    "    ranks[np.argsort(arr)[::-1]] = np.arange(1, len(arr) + 1)\n",
    "    return ranks"
   ]
  },
  {
   "cell_type": "code",
   "execution_count": null,
   "metadata": {},
   "outputs": [],
   "source": [
    "all_data = pd.read_feather(\"cache/stacked_age\")\n",
    "for col in all_data.columns:\n",
    "    if (\n",
    "        col\n",
    "        not in [\"country_destination\"]\n",
    "        + all_data.select_dtypes(include=\"category\").columns.tolist()\n",
    "    ):\n",
    "        all_data[col] = all_data[col].fillna(-99999)\n",
    "all_data = all_data[all_data[\"date_account_created_yearmonth\"] >= 201304]"
   ]
  },
  {
   "cell_type": "code",
   "execution_count": null,
   "metadata": {},
   "outputs": [],
   "source": [
    "test_idx = all_data[\"id\"].isin(pd.read_csv(\"data/test_users.csv\")[\"id\"])\n",
    "train_data = all_data[~test_idx]\n",
    "test_data = all_data[test_idx]"
   ]
  },
  {
   "cell_type": "code",
   "execution_count": null,
   "metadata": {},
   "outputs": [],
   "source": [
    "train_data"
   ]
  },
  {
   "cell_type": "code",
   "execution_count": null,
   "metadata": {},
   "outputs": [],
   "source": [
    "test_data"
   ]
  },
  {
   "cell_type": "code",
   "execution_count": null,
   "metadata": {},
   "outputs": [],
   "source": [
    "all_data.select_dtypes(include=\"object\").columns.tolist()"
   ]
  },
  {
   "cell_type": "code",
   "execution_count": null,
   "metadata": {},
   "outputs": [],
   "source": [
    "num_folds = 2\n",
    "num_classes = len(country_levels)\n",
    "\n",
    "train_pred = np.zeros((len(train_data), num_classes))\n",
    "train_rank = np.zeros((len(train_data), num_classes))\n",
    "test_pred = np.zeros((len(test_data), num_classes))\n",
    "test_rank = np.zeros((len(test_data), num_classes))\n",
    "\n",
    "test_dm = xgb.DMatrix(\n",
    "    data=test_data.drop(columns=[\"id\", \"country_destination\"]),\n",
    "    enable_categorical=True,\n",
    ")"
   ]
  },
  {
   "cell_type": "code",
   "execution_count": null,
   "metadata": {},
   "outputs": [],
   "source": [
    "kf = KFold(n_splits=num_folds, shuffle=True, random_state=42)\n",
    "best_iters = []\n",
    "\n",
    "for fold_idx, (train_idx, val_idx) in enumerate(kf.split(train_data)):\n",
    "    print(f\"Fold {fold_idx + 1}/{num_folds}\")\n",
    "\n",
    "    train_subset = train_data.iloc[train_idx]\n",
    "    val_subset = train_data.iloc[val_idx]\n",
    "\n",
    "    train_dm = xgb.DMatrix(\n",
    "        data=train_subset.drop(columns=[\"id\", \"country_destination\"]),\n",
    "        label=train_subset[\"country_destination\"]\n",
    "        .map({k: i for i, k in enumerate(country_levels)})\n",
    "        .values,\n",
    "        enable_categorical=True,\n",
    "    )\n",
    "    val_dm = xgb.DMatrix(\n",
    "        data=val_subset.drop(columns=[\"id\", \"country_destination\"]),\n",
    "        label=val_subset[\"country_destination\"]\n",
    "        .map({k: i for i, k in enumerate(country_levels)})\n",
    "        .values,\n",
    "        enable_categorical=True,\n",
    "    )\n",
    "\n",
    "    params = {\n",
    "        \"tree_method\": \"hist\",\n",
    "        \"device\": \"cuda\",\n",
    "        \"max_depth\": 7,\n",
    "        \"eta\": 0.22,\n",
    "        \"booster\": \"gbtree\",\n",
    "        \"subsample\": 0.6,\n",
    "        \"colsample_bytree\": 0.6,\n",
    "        \"objective\": \"multi:softprob\",\n",
    "        \"num_class\": num_classes,\n",
    "    }\n",
    "\n",
    "    model = xgb.train(\n",
    "        params=params,\n",
    "        dtrain=train_dm,\n",
    "        num_boost_round=200,\n",
    "        early_stopping_rounds=50,\n",
    "        evals=[(train_dm, \"train\"), (val_dm, \"val\")],\n",
    "        verbose_eval=10,\n",
    "    )\n",
    "\n",
    "    best_iters.append(model.best_iteration)\n",
    "\n",
    "    train_pred_fold = model.predict(val_dm, iteration_range=(0, model.best_iteration))\n",
    "    train_pred[val_idx] = train_pred_fold\n",
    "    train_rank[val_idx] = np.apply_along_axis(get_rank, 1, train_pred_fold)\n",
    "\n",
    "    test_pred += model.predict(test_dm, iteration_range=(0, model.best_iteration))\n",
    "\n",
    "test_pred /= num_folds\n",
    "test_rank = np.apply_along_axis(get_rank, 1, test_pred)"
   ]
  },
  {
   "cell_type": "code",
   "execution_count": null,
   "metadata": {},
   "outputs": [],
   "source": [
    "train_actual = (\n",
    "    train_data[\"country_destination\"]\n",
    "    .map({k: i for i, k in enumerate(country_levels)})\n",
    "    .values\n",
    ")\n",
    "train_top5_rank = np.argsort(train_rank, axis=1)[:, :5]\n",
    "\n",
    "test_actual = (\n",
    "    test_data[\"country_destination\"]\n",
    "    .map({k: i for i, k in enumerate(country_levels)})\n",
    "    .values\n",
    ")\n",
    "test_top5_rank = np.argsort(test_rank, axis=1)[:, :5]\n",
    "\n",
    "\n",
    "def masked_ndcgs(mask=[]):\n",
    "    train_mask = ~(train_data[\"country_destination\"].isin(mask))\n",
    "    test_mask = ~(test_data[\"country_destination\"].isin(mask))\n",
    "\n",
    "    if not len(mask):\n",
    "        mask = \"nothing\"\n",
    "\n",
    "    train_masked_ndcg5 = ndcg(train_actual[train_mask], train_top5_rank[train_mask], 5)\n",
    "    print(f\"Train NDCG5 with {mask} masked: {train_masked_ndcg5}\")\n",
    "    # test_masked_ndcg5 = ndcg(test_actual[test_mask], test_top5_rank[test_mask], 5)\n",
    "    # print(f\"Test NDCG5 with {mask} masked: {test_masked_ndcg5}\")"
   ]
  },
  {
   "cell_type": "code",
   "execution_count": null,
   "metadata": {},
   "outputs": [],
   "source": [
    "masked_ndcgs()"
   ]
  },
  {
   "cell_type": "code",
   "execution_count": null,
   "metadata": {},
   "outputs": [],
   "source": [
    "test_top5 = np.argsort(-test_pred, axis=1)[:, :5]\n",
    "test_predictions = pd.DataFrame(test_pred, columns=country_levels)\n",
    "test_predictions[\"TestId\"] = test_data[\"id\"].values\n",
    "# test_predictions.to_csv(\"cache/probability.csv\", index=False)"
   ]
  },
  {
   "cell_type": "code",
   "execution_count": null,
   "metadata": {},
   "outputs": [],
   "source": [
    "predicted_countries = np.array([[country_levels[i] for i in row] for row in test_top5])\n",
    "\n",
    "submission_ids = np.repeat(test_data[\"id\"].values, 5)\n",
    "\n",
    "submission_countries = predicted_countries.flatten()\n",
    "\n",
    "submission = pd.DataFrame({\"id\": submission_ids, \"country\": submission_countries})\n",
    "\n",
    "submission.to_csv(\"result.csv\", index=False)"
   ]
  }
 ],
 "metadata": {
  "kernelspec": {
   "display_name": ".venv",
   "language": "python",
   "name": "python3"
  },
  "language_info": {
   "codemirror_mode": {
    "name": "ipython",
    "version": 3
   },
   "file_extension": ".py",
   "mimetype": "text/x-python",
   "name": "python",
   "nbconvert_exporter": "python",
   "pygments_lexer": "ipython3",
   "version": "3.11.10"
  }
 },
 "nbformat": 4,
 "nbformat_minor": 2
}
