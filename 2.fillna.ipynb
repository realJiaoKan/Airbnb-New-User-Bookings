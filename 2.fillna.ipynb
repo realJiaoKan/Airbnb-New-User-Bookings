{
 "cells": [
  {
   "cell_type": "code",
   "execution_count": null,
   "metadata": {},
   "outputs": [],
   "source": [
    "import pandas as pd\n",
    "import numpy as np\n",
    "from scipy.sparse import coo_matrix\n",
    "from sklearn.model_selection import KFold\n",
    "import xgboost as xgb\n",
    "import gc\n",
    "\n",
    "# 读取和准备数据\n",
    "df_all_feats = pd.read_csv(\"df_all_feats.csv\")\n",
    "df_all = pd.read_csv(\"df_all.csv\")\n",
    "\n",
    "# 过滤数据\n",
    "X3_all = df_all_feats.dropna(subset=[\"value\"])\n",
    "X3_all = X3_all[~X3_all[\"feature\"].isin([\"age\", \"age_cln\", \"age_cln2\"])]\n",
    "\n",
    "X3_all[\"feature_name\"] = X3_all[\"feature\"]\n",
    "X3_all[\"feature\"] = pd.factorize(X3_all[\"feature\"])[0]\n",
    "\n",
    "X3 = X3_all[X3_all[\"id\"].isin(df_all[df_all[\"age\"].notna()][\"id\"])]\n",
    "X3_test = X3_all[X3_all[\"id\"].isin(df_all[df_all[\"age\"].isna()][\"id\"])]\n",
    "X3_all_feature = (\n",
    "    X3_all[[\"feature\", \"feature_name\"]].drop_duplicates().sort_values(\"feature\")\n",
    ")\n",
    "\n",
    "X3[\"id_num\"] = pd.factorize(X3[\"id\"])[0]\n",
    "X3_test[\"id_num\"] = pd.factorize(X3_test[\"id\"])[0]\n",
    "\n",
    "X3_id = pd.DataFrame({\"id\": X3[\"id\"].unique(), \"id_num\": X3[\"id_num\"].unique()})\n",
    "X3_id = X3_id.merge(df_all[[\"id\", \"age\"]], on=\"id\").sort_values(\"id_num\")\n",
    "y3 = X3_id[\"age\"].values\n",
    "\n",
    "X3_test_id = pd.DataFrame(\n",
    "    {\"id\": X3_test[\"id\"].unique(), \"id_num\": X3_test[\"id_num\"].unique()}\n",
    ").sort_values(\"id_num\")\n",
    "y3_test = np.full(len(X3_test_id), np.nan)\n",
    "\n",
    "common_feature = np.intersect1d(X3[\"feature\"].unique(), X3_test[\"feature\"].unique())\n",
    "\n",
    "X3 = X3[X3[\"feature\"].isin(common_feature)].dropna()\n",
    "X3_sp = coo_matrix((X3[\"value\"], (X3[\"id_num\"], X3[\"feature\"])))\n",
    "X3_test = X3_test[X3_test[\"feature\"].isin(common_feature)].dropna()\n",
    "X3_test_sp = coo_matrix((X3_test[\"value\"], (X3_test[\"id_num\"], X3_test[\"feature\"])))\n",
    "\n",
    "dX3 = xgb.DMatrix(X3_sp, label=y3)\n",
    "dX3_test = xgb.DMatrix(X3_test_sp)"
   ]
  }
 ],
 "metadata": {
  "kernelspec": {
   "display_name": ".venv",
   "language": "python",
   "name": "python3"
  },
  "language_info": {
   "name": "python",
   "version": "3.11.10"
  }
 },
 "nbformat": 4,
 "nbformat_minor": 2
}
