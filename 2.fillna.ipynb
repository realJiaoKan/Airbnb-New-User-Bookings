{
 "cells": [
  {
   "cell_type": "code",
   "execution_count": null,
   "metadata": {},
   "outputs": [],
   "source": [
    "import numpy as np\n",
    "import pandas as pd\n",
    "from sklearn.model_selection import KFold\n",
    "import xgboost as xgb"
   ]
  },
  {
   "cell_type": "code",
   "execution_count": null,
   "metadata": {},
   "outputs": [],
   "source": [
    "df = pd.read_feather(\"data/preprocessed/all_data\")\n",
    "df"
   ]
  },
  {
   "cell_type": "code",
   "execution_count": null,
   "metadata": {},
   "outputs": [],
   "source": [
    "def stack(target, cat, num_classes, num_folds, num_boost_round, param):\n",
    "    # 根据 target 是否为 NaN 划分训练集和测试集\n",
    "    data_mask = df[target].isna()\n",
    "    train_data = df[~data_mask].copy()\n",
    "    test_data = df[data_mask].copy()\n",
    "\n",
    "    # 特征和目标\n",
    "    X_train = train_data.drop(columns=[\"id\", \"country_destination\", target])\n",
    "    for col in X_train.columns:\n",
    "        if col not in X_train.select_dtypes(include=\"category\").columns.tolist():\n",
    "            X_train[col] = X_train[col].fillna(-99999)\n",
    "    y_train = train_data[target].values\n",
    "    X_test = test_data.drop(columns=[\"id\", \"country_destination\", target])\n",
    "    for col in X_test.columns:\n",
    "        if col not in X_test.select_dtypes(include=\"category\").columns.tolist():\n",
    "            X_test[col] = X_test[col].fillna(-99999)\n",
    "\n",
    "    if cat:\n",
    "        y_train = train_data[target].cat.codes.values  # 转为数字编码\n",
    "        target_classes = train_data[target].cat.categories.tolist()  # 保存类别信息\n",
    "\n",
    "    # train_pred = np.zeros((len(train_data), num_classes))\n",
    "    test_pred = np.zeros((len(test_data), num_classes))\n",
    "\n",
    "    kf = KFold(n_splits=num_folds, shuffle=True, random_state=42)\n",
    "    test_fold_preds = []\n",
    "\n",
    "    for fold, (train_idx, val_idx) in enumerate(kf.split(X_train, y_train)):\n",
    "        print(f\"Fold {fold + 1}/{num_folds}\")\n",
    "\n",
    "        # 划分数据\n",
    "        X_tr, y_tr = X_train.iloc[train_idx], y_train[train_idx]\n",
    "        X_val, y_val = X_train.iloc[val_idx], y_train[val_idx]\n",
    "\n",
    "        dtrain = xgb.DMatrix(data=X_tr, label=y_tr, enable_categorical=True)\n",
    "        dval = xgb.DMatrix(data=X_val, label=y_val, enable_categorical=True)\n",
    "        dtest = xgb.DMatrix(data=X_test, enable_categorical=True)\n",
    "\n",
    "        # 设置 XGBoost 参数\n",
    "        watchlist = [(dtrain, \"train\"), (dval, \"eval\")]\n",
    "\n",
    "        # 模型训练\n",
    "        model = xgb.train(\n",
    "            params=param,\n",
    "            dtrain=dtrain,\n",
    "            num_boost_round=num_boost_round,\n",
    "            evals=watchlist,\n",
    "            early_stopping_rounds=10,\n",
    "            verbose_eval=200,\n",
    "        )\n",
    "\n",
    "        # 预测验证集\n",
    "        # val_pred = model.predict(dval)\n",
    "        # train_pred[val_idx] = val_pred.reshape(-1, num_classes)\n",
    "\n",
    "        # 预测测试集\n",
    "        test_fold_pred = model.predict(dtest)\n",
    "        test_fold_preds.append(test_fold_pred)\n",
    "\n",
    "    test_pred = np.mean(test_fold_preds, axis=0)\n",
    "\n",
    "    if cat:\n",
    "        test_pred_labels = np.argmax(test_pred, axis=1)\n",
    "        test_pred = [target_classes[label] for label in test_pred_labels]\n",
    "\n",
    "    df.loc[data_mask, target] = test_pred"
   ]
  },
  {
   "cell_type": "code",
   "execution_count": null,
   "metadata": {},
   "outputs": [],
   "source": [
    "stack(\n",
    "    target=\"age\",\n",
    "    cat=False,\n",
    "    num_classes=1,\n",
    "    num_folds=6,\n",
    "    num_boost_round=3000,\n",
    "    param={\n",
    "        \"tree_method\": \"hist\",\n",
    "        \"device\": \"cuda\",\n",
    "        \"objective\": \"reg:squarederror\",\n",
    "        \"eval_metric\": \"rmse\",\n",
    "        \"eta\": 0.01,\n",
    "        \"max_depth\": 7,\n",
    "        \"subsample\": 0.7,\n",
    "        \"colsample_bytree\": 0.3,\n",
    "        \"lambda\": 1.0,\n",
    "        \"alpha\": 1.0,\n",
    "        \"nthread\": 4,\n",
    "    },\n",
    ")"
   ]
  },
  {
   "cell_type": "code",
   "execution_count": null,
   "metadata": {},
   "outputs": [],
   "source": [
    "df.to_feather(\"cache/stacked_age\")"
   ]
  },
  {
   "cell_type": "code",
   "execution_count": null,
   "metadata": {},
   "outputs": [],
   "source": [
    "stack(\n",
    "    target=\"gender\",\n",
    "    cat=True,\n",
    "    num_classes=3,\n",
    "    num_folds=3,\n",
    "    num_boost_round=1000,\n",
    "    param={\n",
    "        \"tree_method\": \"hist\",\n",
    "        \"device\": \"cuda\",\n",
    "        \"objective\": \"multi:softprob\",\n",
    "        \"eval_metric\": \"mlogloss\",\n",
    "        \"eta\": 0.01,\n",
    "        \"max_depth\": 6,\n",
    "        \"subsample\": 0.7,\n",
    "        \"colsample_bytree\": 0.3,\n",
    "        \"lambda\": 1.0,\n",
    "        \"alpha\": 1.0,\n",
    "        \"nthread\": 4,\n",
    "        \"num_class\": 3,\n",
    "    },\n",
    ")"
   ]
  },
  {
   "cell_type": "code",
   "execution_count": null,
   "metadata": {},
   "outputs": [],
   "source": [
    "df.to_feather(\"cache/stacked_age_gender\")"
   ]
  }
 ],
 "metadata": {
  "kernelspec": {
   "display_name": ".venv",
   "language": "python",
   "name": "python3"
  },
  "language_info": {
   "codemirror_mode": {
    "name": "ipython",
    "version": 3
   },
   "file_extension": ".py",
   "mimetype": "text/x-python",
   "name": "python",
   "nbconvert_exporter": "python",
   "pygments_lexer": "ipython3",
   "version": "3.11.10"
  }
 },
 "nbformat": 4,
 "nbformat_minor": 2
}
